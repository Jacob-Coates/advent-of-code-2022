{
 "cells": [
  {
   "cell_type": "code",
   "execution_count": 11,
   "metadata": {},
   "outputs": [
    {
     "name": "stdout",
     "output_type": "stream",
     "text": [
      "8392 10116\n"
     ]
    }
   ],
   "source": [
    "# Task 1\n",
    "A1 = {\"X\":4,\"Y\":8,\"Z\":3} # Rock\n",
    "B1 = {\"X\":1,\"Y\":5,\"Z\":9} # Paper \n",
    "C1 = {\"X\":7,\"Y\":2,\"Z\":6} # Scissors\n",
    "# Task 2\n",
    "A2 = {\"X\":3,\"Y\":4,\"Z\":8} # Rock\n",
    "B2 = {\"X\":1,\"Y\":5,\"Z\":9} # Paper \n",
    "C2 = {\"X\":2,\"Y\":6,\"Z\":7} # Scissors\n",
    "with open(\"day2.txt\") as f:\n",
    "    games = f.read().split(\"\\n\")\n",
    "    score1 = 0\n",
    "    score2 = 0\n",
    "    for g in games:\n",
    "        game = g.split(\" \")\n",
    "        match game[0]:\n",
    "            case \"A\":\n",
    "                score1 += A1[game[1]]\n",
    "                score2 += A2[game[1]]\n",
    "            case \"B\":\n",
    "                score1 += B1[game[1]]\n",
    "                score2 += B2[game[1]]\n",
    "            case \"C\":\n",
    "                score1 += C1[game[1]]\n",
    "                score2 += C2[game[1]]\n",
    "    print(score1,score2)"
   ]
  }
 ],
 "metadata": {
  "kernelspec": {
   "display_name": "Python 3.10.1 64-bit ('3.10.1')",
   "language": "python",
   "name": "python3"
  },
  "language_info": {
   "codemirror_mode": {
    "name": "ipython",
    "version": 3
   },
   "file_extension": ".py",
   "mimetype": "text/x-python",
   "name": "python",
   "nbconvert_exporter": "python",
   "pygments_lexer": "ipython3",
   "version": "3.10.1"
  },
  "orig_nbformat": 4,
  "vscode": {
   "interpreter": {
    "hash": "d7e6d14af40e0462356fc1f30eac41170352932cde3d9bdb8a89d11ef29ea0f7"
   }
  }
 },
 "nbformat": 4,
 "nbformat_minor": 2
}
