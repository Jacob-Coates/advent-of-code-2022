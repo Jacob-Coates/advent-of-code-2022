{
 "cells": [
  {
   "cell_type": "code",
   "execution_count": 5,
   "metadata": {},
   "outputs": [
    {
     "name": "stdout",
     "output_type": "stream",
     "text": [
      "8392\n"
     ]
    }
   ],
   "source": [
    "# Task 1\n",
    "A = {\"X\":4,\"Y\":8,\"Z\":3} # Rock\n",
    "B = {\"X\":1,\"Y\":5,\"Z\":9} # Paper \n",
    "C = {\"X\":7,\"Y\":2,\"Z\":6} # Scissors\n",
    "\n",
    "with open(\"day2.txt\") as f:\n",
    "    games = f.read().split(\"\\n\")\n",
    "    score = 0\n",
    "    for g in games:\n",
    "        game = g.split(\" \")\n",
    "        match game[0]:\n",
    "            case \"A\":\n",
    "                score += A[game[1]]\n",
    "            case \"B\":\n",
    "                score += B[game[1]]\n",
    "            case \"C\":\n",
    "                score += C[game[1]]\n",
    "    print(score)\n"
   ]
  },
  {
   "cell_type": "code",
   "execution_count": 6,
   "metadata": {},
   "outputs": [
    {
     "name": "stdout",
     "output_type": "stream",
     "text": [
      "10116\n"
     ]
    }
   ],
   "source": [
    "# Task 2\n",
    "A = {\"X\":3,\"Y\":4,\"Z\":8} # Rock\n",
    "B = {\"X\":1,\"Y\":5,\"Z\":9} # Paper \n",
    "C = {\"X\":2,\"Y\":6,\"Z\":7} # Scissors\n",
    "with open(\"day2.txt\") as f:\n",
    "    games = f.read().split(\"\\n\")\n",
    "    score = 0\n",
    "    for g in games:\n",
    "        game = g.split(\" \")\n",
    "        match game[0]:\n",
    "            case \"A\":\n",
    "                score += A[game[1]]\n",
    "            case \"B\":\n",
    "                score += B[game[1]]\n",
    "            case \"C\":\n",
    "                score += C[game[1]]\n",
    "    print(score)"
   ]
  }
 ],
 "metadata": {
  "kernelspec": {
   "display_name": "Python 3.10.1 64-bit ('3.10.1')",
   "language": "python",
   "name": "python3"
  },
  "language_info": {
   "codemirror_mode": {
    "name": "ipython",
    "version": 3
   },
   "file_extension": ".py",
   "mimetype": "text/x-python",
   "name": "python",
   "nbconvert_exporter": "python",
   "pygments_lexer": "ipython3",
   "version": "3.10.1"
  },
  "orig_nbformat": 4,
  "vscode": {
   "interpreter": {
    "hash": "d7e6d14af40e0462356fc1f30eac41170352932cde3d9bdb8a89d11ef29ea0f7"
   }
  }
 },
 "nbformat": 4,
 "nbformat_minor": 2
}
