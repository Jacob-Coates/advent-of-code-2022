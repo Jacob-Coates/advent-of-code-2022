{
 "cells": [
  {
   "cell_type": "code",
   "execution_count": 41,
   "metadata": {},
   "outputs": [
    {
     "name": "stdout",
     "output_type": "stream",
     "text": [
      "72240 \n",
      " 210957\n"
     ]
    }
   ],
   "source": [
    "# Part 1 and Part 2\n",
    "with open('day1.txt') as el:\n",
    "    elves = el.read()\n",
    "    calories = [sum(int(c) for c in e.split(\"\\n\")) for e in elves.split(\"\\n\\n\")]\n",
    "    calories.sort(reverse = True)\n",
    "    print(calories[0],\"\\n\",sum(calories[0:3]))"
   ]
  }
 ],
 "metadata": {
  "kernelspec": {
   "display_name": "Python 3.10.1 64-bit ('3.10.1')",
   "language": "python",
   "name": "python3"
  },
  "language_info": {
   "codemirror_mode": {
    "name": "ipython",
    "version": 3
   },
   "file_extension": ".py",
   "mimetype": "text/x-python",
   "name": "python",
   "nbconvert_exporter": "python",
   "pygments_lexer": "ipython3",
   "version": "3.10.1"
  },
  "orig_nbformat": 4,
  "vscode": {
   "interpreter": {
    "hash": "d7e6d14af40e0462356fc1f30eac41170352932cde3d9bdb8a89d11ef29ea0f7"
   }
  }
 },
 "nbformat": 4,
 "nbformat_minor": 2
}
